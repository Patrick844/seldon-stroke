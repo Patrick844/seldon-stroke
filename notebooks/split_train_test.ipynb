{
 "cells": [
  {
   "cell_type": "code",
   "execution_count": 3,
   "id": "696e3457",
   "metadata": {},
   "outputs": [],
   "source": [
    "import pandas as pd\n",
    "\n",
    "df = pd.read_csv(\"../data/healthcare-dataset-stroke-data.csv\")"
   ]
  },
  {
   "cell_type": "markdown",
   "id": "afbd69f1",
   "metadata": {},
   "source": [
    "## Balancing Data"
   ]
  },
  {
   "cell_type": "code",
   "execution_count": 4,
   "id": "433fad5c",
   "metadata": {},
   "outputs": [],
   "source": [
    "count_0 = df[df[\"stroke\"]==0]\n",
    "df_0 = count_0.iloc[0:500]"
   ]
  },
  {
   "cell_type": "code",
   "execution_count": 5,
   "id": "c8600386",
   "metadata": {},
   "outputs": [],
   "source": [
    "df_1 = df[df[\"stroke\"]==1]"
   ]
  },
  {
   "cell_type": "code",
   "execution_count": 6,
   "id": "82b43e68",
   "metadata": {},
   "outputs": [],
   "source": [
    "df = pd.concat([df_1,df_0])"
   ]
  },
  {
   "cell_type": "code",
   "execution_count": 7,
   "id": "899c76cd",
   "metadata": {},
   "outputs": [],
   "source": [
    "df = df.sample(frac = 1)"
   ]
  },
  {
   "cell_type": "code",
   "execution_count": 8,
   "id": "7cafc0fc",
   "metadata": {},
   "outputs": [],
   "source": [
    "test_sample = int(0.2 * len(df))"
   ]
  },
  {
   "cell_type": "code",
   "execution_count": 9,
   "id": "32596b49",
   "metadata": {},
   "outputs": [],
   "source": [
    "train_sample = len(df) - test_sample"
   ]
  },
  {
   "cell_type": "code",
   "execution_count": 10,
   "id": "e04fc2f3",
   "metadata": {},
   "outputs": [
    {
     "data": {
      "text/plain": [
       "749"
      ]
     },
     "execution_count": 10,
     "metadata": {},
     "output_type": "execute_result"
    }
   ],
   "source": [
    "test_sample + train_sample"
   ]
  },
  {
   "cell_type": "code",
   "execution_count": 11,
   "id": "e35f6009",
   "metadata": {},
   "outputs": [],
   "source": [
    "df_train = df.iloc[:train_sample]\n",
    "df_test = df.iloc[train_sample:]"
   ]
  },
  {
   "cell_type": "code",
   "execution_count": 12,
   "id": "1c29b526",
   "metadata": {},
   "outputs": [],
   "source": [
    "df_train.to_csv(\"../data/train.csv\")\n",
    "df_test.to_csv(\"../data/test.csv\")"
   ]
  }
 ],
 "metadata": {
  "kernelspec": {
   "display_name": "Python 3 (ipykernel)",
   "language": "python",
   "name": "python3"
  },
  "language_info": {
   "codemirror_mode": {
    "name": "ipython",
    "version": 3
   },
   "file_extension": ".py",
   "mimetype": "text/x-python",
   "name": "python",
   "nbconvert_exporter": "python",
   "pygments_lexer": "ipython3",
   "version": "3.8.15"
  }
 },
 "nbformat": 4,
 "nbformat_minor": 5
}
