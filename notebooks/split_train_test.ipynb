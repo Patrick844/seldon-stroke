{
 "cells": [
  {
   "cell_type": "code",
   "execution_count": 1,
   "id": "696e3457",
   "metadata": {},
   "outputs": [],
   "source": [
    "import pandas as pd\n",
    "\n",
    "df = pd.read_csv(\"../data/healthcare-dataset-stroke-data.csv\")"
   ]
  },
  {
   "cell_type": "code",
   "execution_count": 2,
   "id": "732359b3",
   "metadata": {},
   "outputs": [
    {
     "data": {
      "text/plain": [
       "5110"
      ]
     },
     "execution_count": 2,
     "metadata": {},
     "output_type": "execute_result"
    }
   ],
   "source": [
    "len(df)"
   ]
  },
  {
   "cell_type": "code",
   "execution_count": 9,
   "id": "7cafc0fc",
   "metadata": {},
   "outputs": [],
   "source": [
    "test_sample = int(0.2 * len(df))"
   ]
  },
  {
   "cell_type": "code",
   "execution_count": 10,
   "id": "32596b49",
   "metadata": {},
   "outputs": [],
   "source": [
    "train_sample = len(df) - test_sample"
   ]
  },
  {
   "cell_type": "code",
   "execution_count": 11,
   "id": "e04fc2f3",
   "metadata": {},
   "outputs": [
    {
     "data": {
      "text/plain": [
       "5110"
      ]
     },
     "execution_count": 11,
     "metadata": {},
     "output_type": "execute_result"
    }
   ],
   "source": [
    "test_sample + train_sample"
   ]
  },
  {
   "cell_type": "code",
   "execution_count": 14,
   "id": "e35f6009",
   "metadata": {},
   "outputs": [],
   "source": [
    "df_train = df.iloc[:train_sample]\n",
    "df_test = df.iloc[train_sample:]"
   ]
  },
  {
   "cell_type": "code",
   "execution_count": 21,
   "id": "1c29b526",
   "metadata": {},
   "outputs": [],
   "source": [
    "df_train.to_csv(\"../data/train.csv\")\n",
    "df_test.to_csv(\"../data/test.csv\")"
   ]
  },
  {
   "cell_type": "code",
   "execution_count": 20,
   "id": "9ed46ce2",
   "metadata": {},
   "outputs": [
    {
     "data": {
      "text/plain": [
       "4088"
      ]
     },
     "execution_count": 20,
     "metadata": {},
     "output_type": "execute_result"
    }
   ],
   "source": []
  },
  {
   "cell_type": "code",
   "execution_count": null,
   "id": "b2bac206",
   "metadata": {},
   "outputs": [],
   "source": []
  }
 ],
 "metadata": {
  "kernelspec": {
   "display_name": "Python 3 (ipykernel)",
   "language": "python",
   "name": "python3"
  },
  "language_info": {
   "codemirror_mode": {
    "name": "ipython",
    "version": 3
   },
   "file_extension": ".py",
   "mimetype": "text/x-python",
   "name": "python",
   "nbconvert_exporter": "python",
   "pygments_lexer": "ipython3",
   "version": "3.8.15"
  }
 },
 "nbformat": 4,
 "nbformat_minor": 5
}
