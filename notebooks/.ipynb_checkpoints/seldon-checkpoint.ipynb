{
 "cells": [
  {
   "cell_type": "code",
   "execution_count": 33,
   "id": "065a7d72",
   "metadata": {},
   "outputs": [],
   "source": [
    "from minio import Minio\n",
    "import urllib3\n",
    "from minio import InvalidResponseError\n",
    "import joblib"
   ]
  },
  {
   "cell_type": "code",
   "execution_count": 23,
   "id": "0f377caa",
   "metadata": {},
   "outputs": [],
   "source": [
    "client = Minio(\"127.0.0.1:9000\",access_key=\"minioadmin\",secret_key=\"minioadmin\")"
   ]
  },
  {
   "cell_type": "code",
   "execution_count": 32,
   "id": "e8290964",
   "metadata": {},
   "outputs": [
    {
     "name": "stdout",
     "output_type": "stream",
     "text": [
      "modelclf\n"
     ]
    }
   ],
   "source": [
    "b = client.list_buckets()\n",
    "for bb in b:\n",
    "    print(bb.name)"
   ]
  },
  {
   "cell_type": "code",
   "execution_count": 30,
   "id": "b543b10f",
   "metadata": {},
   "outputs": [],
   "source": [
    "httpClient = urllib3.PoolManager(\n",
    "                cert_reqs=\"CERT_NONE\")\n",
    "\n",
    "client = Minio('localhost:9000',\n",
    "           access_key='minioadmin',\n",
    "           secret_key='minioadmin',\n",
    "            secure=False\n",
    "              )"
   ]
  },
  {
   "cell_type": "code",
   "execution_count": 44,
   "id": "a7446ef8",
   "metadata": {},
   "outputs": [
    {
     "data": {
      "text/plain": [
       "<minio.datatypes.Object at 0x7fbd787bc2e0>"
      ]
     },
     "execution_count": 44,
     "metadata": {},
     "output_type": "execute_result"
    }
   ],
   "source": [
    "client.fget_object(\"modelclf\",\"clf\",\"tmp/clf\")"
   ]
  },
  {
   "cell_type": "code",
   "execution_count": 45,
   "id": "d81d99ab",
   "metadata": {},
   "outputs": [
    {
     "data": {
      "text/html": [
       "<style>#sk-container-id-1 {color: black;background-color: white;}#sk-container-id-1 pre{padding: 0;}#sk-container-id-1 div.sk-toggleable {background-color: white;}#sk-container-id-1 label.sk-toggleable__label {cursor: pointer;display: block;width: 100%;margin-bottom: 0;padding: 0.3em;box-sizing: border-box;text-align: center;}#sk-container-id-1 label.sk-toggleable__label-arrow:before {content: \"▸\";float: left;margin-right: 0.25em;color: #696969;}#sk-container-id-1 label.sk-toggleable__label-arrow:hover:before {color: black;}#sk-container-id-1 div.sk-estimator:hover label.sk-toggleable__label-arrow:before {color: black;}#sk-container-id-1 div.sk-toggleable__content {max-height: 0;max-width: 0;overflow: hidden;text-align: left;background-color: #f0f8ff;}#sk-container-id-1 div.sk-toggleable__content pre {margin: 0.2em;color: black;border-radius: 0.25em;background-color: #f0f8ff;}#sk-container-id-1 input.sk-toggleable__control:checked~div.sk-toggleable__content {max-height: 200px;max-width: 100%;overflow: auto;}#sk-container-id-1 input.sk-toggleable__control:checked~label.sk-toggleable__label-arrow:before {content: \"▾\";}#sk-container-id-1 div.sk-estimator input.sk-toggleable__control:checked~label.sk-toggleable__label {background-color: #d4ebff;}#sk-container-id-1 div.sk-label input.sk-toggleable__control:checked~label.sk-toggleable__label {background-color: #d4ebff;}#sk-container-id-1 input.sk-hidden--visually {border: 0;clip: rect(1px 1px 1px 1px);clip: rect(1px, 1px, 1px, 1px);height: 1px;margin: -1px;overflow: hidden;padding: 0;position: absolute;width: 1px;}#sk-container-id-1 div.sk-estimator {font-family: monospace;background-color: #f0f8ff;border: 1px dotted black;border-radius: 0.25em;box-sizing: border-box;margin-bottom: 0.5em;}#sk-container-id-1 div.sk-estimator:hover {background-color: #d4ebff;}#sk-container-id-1 div.sk-parallel-item::after {content: \"\";width: 100%;border-bottom: 1px solid gray;flex-grow: 1;}#sk-container-id-1 div.sk-label:hover label.sk-toggleable__label {background-color: #d4ebff;}#sk-container-id-1 div.sk-serial::before {content: \"\";position: absolute;border-left: 1px solid gray;box-sizing: border-box;top: 0;bottom: 0;left: 50%;z-index: 0;}#sk-container-id-1 div.sk-serial {display: flex;flex-direction: column;align-items: center;background-color: white;padding-right: 0.2em;padding-left: 0.2em;position: relative;}#sk-container-id-1 div.sk-item {position: relative;z-index: 1;}#sk-container-id-1 div.sk-parallel {display: flex;align-items: stretch;justify-content: center;background-color: white;position: relative;}#sk-container-id-1 div.sk-item::before, #sk-container-id-1 div.sk-parallel-item::before {content: \"\";position: absolute;border-left: 1px solid gray;box-sizing: border-box;top: 0;bottom: 0;left: 50%;z-index: -1;}#sk-container-id-1 div.sk-parallel-item {display: flex;flex-direction: column;z-index: 1;position: relative;background-color: white;}#sk-container-id-1 div.sk-parallel-item:first-child::after {align-self: flex-end;width: 50%;}#sk-container-id-1 div.sk-parallel-item:last-child::after {align-self: flex-start;width: 50%;}#sk-container-id-1 div.sk-parallel-item:only-child::after {width: 0;}#sk-container-id-1 div.sk-dashed-wrapped {border: 1px dashed gray;margin: 0 0.4em 0.5em 0.4em;box-sizing: border-box;padding-bottom: 0.4em;background-color: white;}#sk-container-id-1 div.sk-label label {font-family: monospace;font-weight: bold;display: inline-block;line-height: 1.2em;}#sk-container-id-1 div.sk-label-container {text-align: center;}#sk-container-id-1 div.sk-container {/* jupyter's `normalize.less` sets `[hidden] { display: none; }` but bootstrap.min.css set `[hidden] { display: none !important; }` so we also need the `!important` here to be able to override the default hidden behavior on the sphinx rendered scikit-learn.org. See: https://github.com/scikit-learn/scikit-learn/issues/21755 */display: inline-block !important;position: relative;}#sk-container-id-1 div.sk-text-repr-fallback {display: none;}</style><div id=\"sk-container-id-1\" class=\"sk-top-container\"><div class=\"sk-text-repr-fallback\"><pre>LogisticRegression()</pre><b>In a Jupyter environment, please rerun this cell to show the HTML representation or trust the notebook. <br />On GitHub, the HTML representation is unable to render, please try loading this page with nbviewer.org.</b></div><div class=\"sk-container\" hidden><div class=\"sk-item\"><div class=\"sk-estimator sk-toggleable\"><input class=\"sk-toggleable__control sk-hidden--visually\" id=\"sk-estimator-id-1\" type=\"checkbox\" checked><label for=\"sk-estimator-id-1\" class=\"sk-toggleable__label sk-toggleable__label-arrow\">LogisticRegression</label><div class=\"sk-toggleable__content\"><pre>LogisticRegression()</pre></div></div></div></div></div>"
      ],
      "text/plain": [
       "LogisticRegression()"
      ]
     },
     "execution_count": 45,
     "metadata": {},
     "output_type": "execute_result"
    }
   ],
   "source": [
    "joblib.load(\"tmp/clf\")"
   ]
  },
  {
   "cell_type": "code",
   "execution_count": 47,
   "id": "2dc86994",
   "metadata": {},
   "outputs": [
    {
     "name": "stdout",
     "output_type": "stream",
     "text": [
      "Collecting seldon-core\n",
      "  Downloading seldon_core-1.15.0-py3-none-any.whl (116 kB)\n",
      "\u001b[2K     \u001b[90m━━━━━━━━━━━━━━━━━━━━━━━━━━━━━━━━━━━━━━━\u001b[0m \u001b[32m116.5/116.5 kB\u001b[0m \u001b[31m2.0 MB/s\u001b[0m eta \u001b[36m0:00:00\u001b[0ma \u001b[36m0:00:01\u001b[0m\n",
      "\u001b[?25hCollecting jsonschema<4.0.0\n",
      "  Using cached jsonschema-3.2.0-py2.py3-none-any.whl (56 kB)\n",
      "Collecting click<8.1,>=8.0.0a1\n",
      "  Using cached click-8.0.4-py3-none-any.whl (97 kB)\n",
      "Collecting opentracing<2.5.0,>=2.2.0\n",
      "  Using cached opentracing-2.4.0.tar.gz (46 kB)\n",
      "  Preparing metadata (setup.py) ... \u001b[?25ldone\n",
      "\u001b[?25hCollecting gunicorn<20.2.0,>=19.9.0\n",
      "  Using cached gunicorn-20.1.0-py3-none-any.whl (79 kB)\n",
      "Collecting Flask<3.0.0,>=2.0.0\n",
      "  Using cached Flask-2.2.2-py3-none-any.whl (101 kB)\n",
      "Collecting werkzeug<2.3,>=2.1.1\n",
      "  Using cached Werkzeug-2.2.2-py3-none-any.whl (232 kB)\n",
      "Collecting cryptography<3.5,>=3.4\n",
      "  Using cached cryptography-3.4.8-cp36-abi3-macosx_10_10_x86_64.whl (2.0 MB)\n",
      "Collecting protobuf<4.0.0\n",
      "  Using cached protobuf-3.20.3-cp38-cp38-macosx_10_9_x86_64.whl (982 kB)\n",
      "Collecting Flask-OpenTracing<1.2.0,>=1.1.0\n",
      "  Using cached Flask-OpenTracing-1.1.0.tar.gz (8.2 kB)\n",
      "  Preparing metadata (setup.py) ... \u001b[?25ldone\n",
      "\u001b[?25hCollecting flatbuffers<2.0.0\n",
      "  Using cached flatbuffers-1.12-py2.py3-none-any.whl (15 kB)\n",
      "Collecting PyYAML<5.5,>=5.4\n",
      "  Using cached PyYAML-5.4.1-cp38-cp38-macosx_10_9_x86_64.whl (253 kB)\n",
      "Collecting grpcio-opentracing<1.2.0,>=1.1.4\n",
      "  Using cached grpcio_opentracing-1.1.4-py3-none-any.whl (14 kB)\n",
      "Collecting grpcio-reflection<1.35.0\n",
      "  Using cached grpcio-reflection-1.34.1.tar.gz (11 kB)\n",
      "  Preparing metadata (setup.py) ... \u001b[?25ldone\n",
      "\u001b[?25hCollecting requests<3.0.0\n",
      "  Using cached requests-2.28.1-py3-none-any.whl (62 kB)\n",
      "Requirement already satisfied: setuptools>=41.0.0 in /Users/psaade/miniconda3/envs/stroke/lib/python3.8/site-packages (from seldon-core) (65.5.0)\n",
      "Collecting prometheus-client<0.9.0,>=0.7.1\n",
      "  Using cached prometheus_client-0.8.0-py2.py3-none-any.whl (53 kB)\n",
      "Requirement already satisfied: numpy<2.0.0 in /Users/psaade/miniconda3/envs/stroke/lib/python3.8/site-packages (from seldon-core) (1.23.5)\n",
      "Collecting jaeger-client<4.5.0,>=4.1.0\n",
      "  Using cached jaeger-client-4.4.0.tar.gz (83 kB)\n",
      "  Preparing metadata (setup.py) ... \u001b[?25ldone\n",
      "\u001b[?25hRequirement already satisfied: urllib3<1.27,>=1.26.5 in /Users/psaade/miniconda3/envs/stroke/lib/python3.8/site-packages (from seldon-core) (1.26.13)\n",
      "Collecting grpcio<2.0.0\n",
      "  Using cached grpcio-1.51.1-cp38-cp38-macosx_10_10_x86_64.whl (4.6 MB)\n",
      "Collecting Flask-cors<4.0.0\n",
      "  Using cached Flask_Cors-3.0.10-py2.py3-none-any.whl (14 kB)\n",
      "Requirement already satisfied: cffi>=1.12 in /Users/psaade/miniconda3/envs/stroke/lib/python3.8/site-packages (from cryptography<3.5,>=3.4->seldon-core) (1.15.1)\n",
      "Requirement already satisfied: importlib-metadata>=3.6.0 in /Users/psaade/miniconda3/envs/stroke/lib/python3.8/site-packages (from Flask<3.0.0,>=2.0.0->seldon-core) (5.2.0)\n",
      "Requirement already satisfied: Jinja2>=3.0 in /Users/psaade/miniconda3/envs/stroke/lib/python3.8/site-packages (from Flask<3.0.0,>=2.0.0->seldon-core) (3.1.2)\n",
      "Collecting itsdangerous>=2.0\n",
      "  Using cached itsdangerous-2.1.2-py3-none-any.whl (15 kB)\n",
      "Requirement already satisfied: Six in /Users/psaade/miniconda3/envs/stroke/lib/python3.8/site-packages (from Flask-cors<4.0.0->seldon-core) (1.16.0)\n",
      "Collecting threadloop<2,>=1\n",
      "  Using cached threadloop-1.0.2.tar.gz (4.9 kB)\n",
      "  Preparing metadata (setup.py) ... \u001b[?25ldone\n",
      "\u001b[?25hCollecting thrift\n",
      "  Using cached thrift-0.16.0.tar.gz (59 kB)\n",
      "  Preparing metadata (setup.py) ... \u001b[?25ldone\n",
      "\u001b[?25hRequirement already satisfied: tornado>=4.3 in /Users/psaade/miniconda3/envs/stroke/lib/python3.8/site-packages (from jaeger-client<4.5.0,>=4.1.0->seldon-core) (6.2)\n",
      "Requirement already satisfied: attrs>=17.4.0 in /Users/psaade/miniconda3/envs/stroke/lib/python3.8/site-packages (from jsonschema<4.0.0->seldon-core) (22.2.0)\n",
      "Requirement already satisfied: pyrsistent>=0.14.0 in /Users/psaade/miniconda3/envs/stroke/lib/python3.8/site-packages (from jsonschema<4.0.0->seldon-core) (0.19.2)\n",
      "Collecting charset-normalizer<3,>=2\n",
      "  Using cached charset_normalizer-2.1.1-py3-none-any.whl (39 kB)\n",
      "Requirement already satisfied: idna<4,>=2.5 in /Users/psaade/miniconda3/envs/stroke/lib/python3.8/site-packages (from requests<3.0.0->seldon-core) (3.4)\n",
      "Requirement already satisfied: certifi>=2017.4.17 in /Users/psaade/miniconda3/envs/stroke/lib/python3.8/site-packages (from requests<3.0.0->seldon-core) (2022.12.7)\n",
      "Requirement already satisfied: MarkupSafe>=2.1.1 in /Users/psaade/miniconda3/envs/stroke/lib/python3.8/site-packages (from werkzeug<2.3,>=2.1.1->seldon-core) (2.1.1)\n",
      "Requirement already satisfied: pycparser in /Users/psaade/miniconda3/envs/stroke/lib/python3.8/site-packages (from cffi>=1.12->cryptography<3.5,>=3.4->seldon-core) (2.21)\n",
      "Requirement already satisfied: zipp>=0.5 in /Users/psaade/miniconda3/envs/stroke/lib/python3.8/site-packages (from importlib-metadata>=3.6.0->Flask<3.0.0,>=2.0.0->seldon-core) (3.11.0)\n",
      "Building wheels for collected packages: Flask-OpenTracing, grpcio-reflection, jaeger-client, opentracing, threadloop, thrift\n",
      "  Building wheel for Flask-OpenTracing (setup.py) ... \u001b[?25ldone\n",
      "\u001b[?25h  Created wheel for Flask-OpenTracing: filename=Flask_OpenTracing-1.1.0-py3-none-any.whl size=9084 sha256=bf28140ba86600b24c67c4b5eb318ccf5f20f77f4036d71760bf525c4d1c7eea\n",
      "  Stored in directory: /Users/psaade/Library/Caches/pip/wheels/20/cb/86/3647ef42728bb9664178c3b4aa67e5dae413c062e5ee67f671\n",
      "  Building wheel for grpcio-reflection (setup.py) ... \u001b[?25ldone\n",
      "\u001b[?25h  Created wheel for grpcio-reflection: filename=grpcio_reflection-1.34.1-py3-none-any.whl size=14413 sha256=bbccb28ae857344ea62464e80b07d473952068600711bbb21a15c69991254abd\n",
      "  Stored in directory: /Users/psaade/Library/Caches/pip/wheels/41/1f/e0/1590382b4f98162af53a11831f454b9538e6d13e20d5ef2b7e\n",
      "  Building wheel for jaeger-client (setup.py) ... \u001b[?25ldone\n",
      "\u001b[?25h  Created wheel for jaeger-client: filename=jaeger_client-4.4.0-py3-none-any.whl size=64306 sha256=903048a5cc8b5bcf44179470bc3876af7e0e0af04a392a97cf3360af9cff60de\n",
      "  Stored in directory: /Users/psaade/Library/Caches/pip/wheels/97/f4/10/98adccf836eac1486d1437bc1c8b70a69a024f3440daeb728c\n",
      "  Building wheel for opentracing (setup.py) ... \u001b[?25ldone\n",
      "\u001b[?25h  Created wheel for opentracing: filename=opentracing-2.4.0-py3-none-any.whl size=51406 sha256=1c7a8af11cc0c83e8326870ae71df3ab3f323307fe89093969b3dd0f12a1b574\n",
      "  Stored in directory: /Users/psaade/Library/Caches/pip/wheels/4d/55/63/2987c0db2bb05b723d317498b738547b0e75c89253f2265933\n",
      "  Building wheel for threadloop (setup.py) ... \u001b[?25ldone\n",
      "\u001b[?25h  Created wheel for threadloop: filename=threadloop-1.0.2-py3-none-any.whl size=3404 sha256=280c58b40a79821b73b95be756fcb947d41025566a62f765105ff070af2d8b7e\n",
      "  Stored in directory: /Users/psaade/Library/Caches/pip/wheels/11/39/ac/b709bcdaae40168cce2dcf134d7b706c9fddd6789085ccc071\n",
      "  Building wheel for thrift (setup.py) ... \u001b[?25ldone\n",
      "\u001b[?25h  Created wheel for thrift: filename=thrift-0.16.0-cp38-cp38-macosx_10_9_x86_64.whl size=177990 sha256=95ac49ff172ebcb607bd00a539ee46df154e7f534aca210c5251c7b8c5eda37a\n",
      "  Stored in directory: /Users/psaade/Library/Caches/pip/wheels/ac/68/aa/24130ceca0676533887e3c1904643c3a3e3d3e27950f5faeb1\n",
      "Successfully built Flask-OpenTracing grpcio-reflection jaeger-client opentracing threadloop thrift\n",
      "Installing collected packages: prometheus-client, opentracing, flatbuffers, werkzeug, thrift, threadloop, PyYAML, protobuf, jsonschema, itsdangerous, gunicorn, grpcio, click, charset-normalizer, requests, jaeger-client, grpcio-reflection, grpcio-opentracing, Flask, cryptography, Flask-OpenTracing, Flask-cors, seldon-core\n",
      "  Attempting uninstall: prometheus-client\n",
      "    Found existing installation: prometheus-client 0.15.0\n",
      "    Uninstalling prometheus-client-0.15.0:\n",
      "      Successfully uninstalled prometheus-client-0.15.0\n",
      "  Attempting uninstall: PyYAML\n",
      "    Found existing installation: PyYAML 6.0\n",
      "    Uninstalling PyYAML-6.0:\n",
      "      Successfully uninstalled PyYAML-6.0\n",
      "  Attempting uninstall: jsonschema\n",
      "    Found existing installation: jsonschema 4.17.3\n",
      "    Uninstalling jsonschema-4.17.3:\n",
      "      Successfully uninstalled jsonschema-4.17.3\n",
      "\u001b[31mERROR: pip's dependency resolver does not currently take into account all the packages that are installed. This behaviour is the source of the following dependency conflicts.\n",
      "jupyter-events 0.5.0 requires jsonschema[format-nongpl]>=4.3.0, but you have jsonschema 3.2.0 which is incompatible.\u001b[0m\u001b[31m\n",
      "\u001b[0mSuccessfully installed Flask-2.2.2 Flask-OpenTracing-1.1.0 Flask-cors-3.0.10 PyYAML-5.4.1 charset-normalizer-2.1.1 click-8.0.4 cryptography-3.4.8 flatbuffers-1.12 grpcio-1.51.1 grpcio-opentracing-1.1.4 grpcio-reflection-1.34.1 gunicorn-20.1.0 itsdangerous-2.1.2 jaeger-client-4.4.0 jsonschema-3.2.0 opentracing-2.4.0 prometheus-client-0.8.0 protobuf-3.20.3 requests-2.28.1 seldon-core-1.15.0 threadloop-1.0.2 thrift-0.16.0 werkzeug-2.2.2\n"
     ]
    }
   ],
   "source": [
    "!pip install seldon-core"
   ]
  },
  {
   "cell_type": "code",
   "execution_count": 49,
   "id": "ecb2f7be",
   "metadata": {},
   "outputs": [
    {
     "name": "stdout",
     "output_type": "stream",
     "text": [
      "{'status': {'code': -1, 'info': 'index 4 is out of bounds for axis 0 with size 1', 'reason': 'MICROSERVICE_INTERNAL_ERROR', 'status': 1}}\n"
     ]
    }
   ],
   "source": [
    "import numpy as np\n",
    "from seldon_core.seldon_client import SeldonClient\n",
    "import pandas as pd\n",
    "import time\n",
    "\n",
    "df = pd.read_csv(\"../data/train.csv\")\n",
    "\n",
    "sc = SeldonClient(\n",
    "    gateway=\"istio\",\n",
    "    transport=\"rest\",\n",
    "    gateway_endpoint=\"localhost:8080\",  \n",
    "    namespace=\"default\",\n",
    ")\n",
    "\n",
    "\n",
    "\n",
    "client_prediction = sc.predict(\n",
    "    data=np.array([df.iloc[0][\"gender\"],df.iloc[0][\"age\"],df.iloc[0][\"hypertension\"],df.iloc[0][\"heart_disease\"],df.iloc[0][\"ever_married\"],df.iloc[0][\"work_type\"],df.iloc[0][\"Residence_type\"],df.iloc[0][\"avg_glucose_level\"],df.iloc[0][\"bmi\"],df.iloc[0][\"smoking_status\"]]),\n",
    "    deployment_name=\"stroke\",\n",
    "    names=['gender', 'age', 'hypertention', 'heart_disease', 'ever_married', 'work_type', 'Residence_type',\"avg_glucose_level\",\"bmi\",\"smoking_status\"],\n",
    "    payload_type=\"ndarray\",\n",
    ")\n",
    "prediction = (client_prediction)\n",
    "print(client_prediction.response)\n"
   ]
  },
  {
   "cell_type": "code",
   "execution_count": null,
   "id": "22f75627",
   "metadata": {},
   "outputs": [],
   "source": [
    "Index(['id', 'gender', 'age', 'hypertension', 'heart_disease', 'ever_married',\n",
    "       'work_type', 'Residence_type', 'avg_glucose_level', 'bmi',\n",
    "       'smoking_status', 'stroke'],"
   ]
  },
  {
   "cell_type": "code",
   "execution_count": null,
   "id": "712b1f50",
   "metadata": {},
   "outputs": [],
   "source": [
    "x = "
   ]
  }
 ],
 "metadata": {
  "kernelspec": {
   "display_name": "Python 3 (ipykernel)",
   "language": "python",
   "name": "python3"
  },
  "language_info": {
   "codemirror_mode": {
    "name": "ipython",
    "version": 3
   },
   "file_extension": ".py",
   "mimetype": "text/x-python",
   "name": "python",
   "nbconvert_exporter": "python",
   "pygments_lexer": "ipython3",
   "version": "3.8.15"
  }
 },
 "nbformat": 4,
 "nbformat_minor": 5
}
