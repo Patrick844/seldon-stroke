{
 "cells": [
  {
   "cell_type": "code",
   "execution_count": 290,
   "id": "9ffdd84f",
   "metadata": {},
   "outputs": [],
   "source": [
    "import pandas as pd\n",
    "import numpy as np\n",
    "import joblib\n",
    "from sklearn.preprocessing import OneHotEncoder\n",
    "from sklearn.preprocessing import OrdinalEncoder\n",
    "from sklearn.preprocessing import MinMaxScaler\n",
    "from sklearn.model_selection import train_test_split\n",
    "from sklearn.tree import DecisionTreeClassifier\n",
    "from sklearn.linear_model import LogisticRegression\n",
    "from sklearn.svm import SVC"
   ]
  },
  {
   "cell_type": "code",
   "execution_count": 291,
   "id": "9c3fd01e",
   "metadata": {},
   "outputs": [],
   "source": [
    "df = pd.read_csv(\"../data/train.csv\")"
   ]
  },
  {
   "cell_type": "code",
   "execution_count": 292,
   "id": "373df903",
   "metadata": {},
   "outputs": [],
   "source": [
    "df = df.drop([\"Unnamed: 0\"],axis=1)\n",
    "df = df.set_index(\"id\")"
   ]
  },
  {
   "cell_type": "code",
   "execution_count": 293,
   "id": "894d95f7",
   "metadata": {},
   "outputs": [
    {
     "data": {
      "text/html": [
       "<div>\n",
       "<style scoped>\n",
       "    .dataframe tbody tr th:only-of-type {\n",
       "        vertical-align: middle;\n",
       "    }\n",
       "\n",
       "    .dataframe tbody tr th {\n",
       "        vertical-align: top;\n",
       "    }\n",
       "\n",
       "    .dataframe thead th {\n",
       "        text-align: right;\n",
       "    }\n",
       "</style>\n",
       "<table border=\"1\" class=\"dataframe\">\n",
       "  <thead>\n",
       "    <tr style=\"text-align: right;\">\n",
       "      <th></th>\n",
       "      <th>gender</th>\n",
       "      <th>age</th>\n",
       "      <th>hypertension</th>\n",
       "      <th>heart_disease</th>\n",
       "      <th>ever_married</th>\n",
       "      <th>work_type</th>\n",
       "      <th>Residence_type</th>\n",
       "      <th>avg_glucose_level</th>\n",
       "      <th>bmi</th>\n",
       "      <th>smoking_status</th>\n",
       "      <th>stroke</th>\n",
       "    </tr>\n",
       "    <tr>\n",
       "      <th>id</th>\n",
       "      <th></th>\n",
       "      <th></th>\n",
       "      <th></th>\n",
       "      <th></th>\n",
       "      <th></th>\n",
       "      <th></th>\n",
       "      <th></th>\n",
       "      <th></th>\n",
       "      <th></th>\n",
       "      <th></th>\n",
       "      <th></th>\n",
       "    </tr>\n",
       "  </thead>\n",
       "  <tbody>\n",
       "    <tr>\n",
       "      <th>9046</th>\n",
       "      <td>Male</td>\n",
       "      <td>67.0</td>\n",
       "      <td>0</td>\n",
       "      <td>1</td>\n",
       "      <td>Yes</td>\n",
       "      <td>Private</td>\n",
       "      <td>Urban</td>\n",
       "      <td>228.69</td>\n",
       "      <td>36.6</td>\n",
       "      <td>formerly smoked</td>\n",
       "      <td>1</td>\n",
       "    </tr>\n",
       "    <tr>\n",
       "      <th>51676</th>\n",
       "      <td>Female</td>\n",
       "      <td>61.0</td>\n",
       "      <td>0</td>\n",
       "      <td>0</td>\n",
       "      <td>Yes</td>\n",
       "      <td>Self-employed</td>\n",
       "      <td>Rural</td>\n",
       "      <td>202.21</td>\n",
       "      <td>NaN</td>\n",
       "      <td>never smoked</td>\n",
       "      <td>1</td>\n",
       "    </tr>\n",
       "    <tr>\n",
       "      <th>31112</th>\n",
       "      <td>Male</td>\n",
       "      <td>80.0</td>\n",
       "      <td>0</td>\n",
       "      <td>1</td>\n",
       "      <td>Yes</td>\n",
       "      <td>Private</td>\n",
       "      <td>Rural</td>\n",
       "      <td>105.92</td>\n",
       "      <td>32.5</td>\n",
       "      <td>never smoked</td>\n",
       "      <td>1</td>\n",
       "    </tr>\n",
       "    <tr>\n",
       "      <th>60182</th>\n",
       "      <td>Female</td>\n",
       "      <td>49.0</td>\n",
       "      <td>0</td>\n",
       "      <td>0</td>\n",
       "      <td>Yes</td>\n",
       "      <td>Private</td>\n",
       "      <td>Urban</td>\n",
       "      <td>171.23</td>\n",
       "      <td>34.4</td>\n",
       "      <td>smokes</td>\n",
       "      <td>1</td>\n",
       "    </tr>\n",
       "    <tr>\n",
       "      <th>1665</th>\n",
       "      <td>Female</td>\n",
       "      <td>79.0</td>\n",
       "      <td>1</td>\n",
       "      <td>0</td>\n",
       "      <td>Yes</td>\n",
       "      <td>Self-employed</td>\n",
       "      <td>Rural</td>\n",
       "      <td>174.12</td>\n",
       "      <td>24.0</td>\n",
       "      <td>never smoked</td>\n",
       "      <td>1</td>\n",
       "    </tr>\n",
       "  </tbody>\n",
       "</table>\n",
       "</div>"
      ],
      "text/plain": [
       "       gender   age  hypertension  heart_disease ever_married      work_type  \\\n",
       "id                                                                             \n",
       "9046     Male  67.0             0              1          Yes        Private   \n",
       "51676  Female  61.0             0              0          Yes  Self-employed   \n",
       "31112    Male  80.0             0              1          Yes        Private   \n",
       "60182  Female  49.0             0              0          Yes        Private   \n",
       "1665   Female  79.0             1              0          Yes  Self-employed   \n",
       "\n",
       "      Residence_type  avg_glucose_level   bmi   smoking_status  stroke  \n",
       "id                                                                      \n",
       "9046           Urban             228.69  36.6  formerly smoked       1  \n",
       "51676          Rural             202.21   NaN     never smoked       1  \n",
       "31112          Rural             105.92  32.5     never smoked       1  \n",
       "60182          Urban             171.23  34.4           smokes       1  \n",
       "1665           Rural             174.12  24.0     never smoked       1  "
      ]
     },
     "execution_count": 293,
     "metadata": {},
     "output_type": "execute_result"
    }
   ],
   "source": [
    "df.head()"
   ]
  },
  {
   "cell_type": "code",
   "execution_count": 294,
   "id": "3adb24a2",
   "metadata": {},
   "outputs": [
    {
     "data": {
      "text/plain": [
       "gender                 0\n",
       "age                    0\n",
       "hypertension           0\n",
       "heart_disease          0\n",
       "ever_married           0\n",
       "work_type              0\n",
       "Residence_type         0\n",
       "avg_glucose_level      0\n",
       "bmi                  177\n",
       "smoking_status         0\n",
       "stroke                 0\n",
       "dtype: int64"
      ]
     },
     "execution_count": 294,
     "metadata": {},
     "output_type": "execute_result"
    }
   ],
   "source": [
    "df.isnull().sum()"
   ]
  },
  {
   "cell_type": "code",
   "execution_count": 295,
   "id": "91428f80",
   "metadata": {},
   "outputs": [
    {
     "data": {
      "text/plain": [
       "0    26.7\n",
       "1    27.7\n",
       "Name: bmi, dtype: float64"
      ]
     },
     "execution_count": 295,
     "metadata": {},
     "output_type": "execute_result"
    }
   ],
   "source": [
    "df[\"bmi\"].mode()"
   ]
  },
  {
   "cell_type": "code",
   "execution_count": 296,
   "id": "89117887",
   "metadata": {},
   "outputs": [
    {
     "data": {
      "text/plain": [
       "['../model_1/mode']"
      ]
     },
     "execution_count": 296,
     "metadata": {},
     "output_type": "execute_result"
    }
   ],
   "source": [
    "# Find mode value \n",
    "mode_1 = df[\"bmi\"].mode()[0]\n",
    "joblib.dump(mode_1,\"../model_1/mode\")\n"
   ]
  },
  {
   "cell_type": "code",
   "execution_count": 297,
   "id": "9bed17a5",
   "metadata": {},
   "outputs": [
    {
     "data": {
      "text/plain": [
       "['../model_2/mode']"
      ]
     },
     "execution_count": 297,
     "metadata": {},
     "output_type": "execute_result"
    }
   ],
   "source": [
    "mode_1 = df[\"bmi\"].mode()[1]\n",
    "joblib.dump(mode_1,\"../model_2/mode\")"
   ]
  },
  {
   "cell_type": "code",
   "execution_count": 298,
   "id": "dde765a8",
   "metadata": {},
   "outputs": [],
   "source": [
    "def missing_values(df):\n",
    "    \n",
    "    mode = joblib.load(\"../model_1/mode\")\n",
    "    df = df.fillna(mode)\n",
    "    return df\n",
    "    \n",
    "    "
   ]
  },
  {
   "cell_type": "code",
   "execution_count": 299,
   "id": "1a558c42",
   "metadata": {},
   "outputs": [],
   "source": [
    "def fit_one_hot(df):\n",
    "    encoder = OneHotEncoder(handle_unknown='ignore',sparse_output=False)\n",
    "    encoder.fit(df[[\"gender\",\"ever_married\",\"work_type\",\"Residence_type\"]])\n",
    "    joblib.dump(encoder,\"../model_1/encoder\")"
   ]
  },
  {
   "cell_type": "code",
   "execution_count": 300,
   "id": "eae062e7",
   "metadata": {},
   "outputs": [],
   "source": [
    "def transform_one_hot(df):\n",
    "    encoder = joblib.load(\"../model_1/encoder\")\n",
    "    result = encoder.transform(df[[\"gender\",\"ever_married\",\"work_type\",\"Residence_type\"]])\n",
    "    df = df.drop([\"gender\",\"work_type\",\"Residence_type\",\"ever_married\"],axis=1)\n",
    "    df[encoder.get_feature_names_out()] = result\n",
    "    return df"
   ]
  },
  {
   "cell_type": "code",
   "execution_count": 301,
   "id": "36202654",
   "metadata": {},
   "outputs": [],
   "source": [
    "def fit_ordinal(df):\n",
    "    encoder = OrdinalEncoder(handle_unknown=\"use_encoded_value\",unknown_value=4)\n",
    "    encoder.fit(df[[\"smoking_status\"]])\n",
    "    joblib.dump(encoder,\"../model_1/encoder_ordinal\")"
   ]
  },
  {
   "cell_type": "code",
   "execution_count": 302,
   "id": "7b37d98d",
   "metadata": {},
   "outputs": [],
   "source": [
    "def transform_ordinal(df):\n",
    "    encoder = joblib.load(\"../model_1/encoder_ordinal\")\n",
    "    result = encoder.transform(df[[\"smoking_status\"]])\n",
    "    df[encoder.get_feature_names_out()] = result\n",
    "    return df"
   ]
  },
  {
   "cell_type": "code",
   "execution_count": 303,
   "id": "118edda8",
   "metadata": {},
   "outputs": [],
   "source": [
    "def min_max_scaler_fit(df):\n",
    "    scaler = MinMaxScaler()\n",
    "    scaler.fit(df)\n",
    "    joblib.dump(scaler,\"../model_1/scaler\")"
   ]
  },
  {
   "cell_type": "code",
   "execution_count": 304,
   "id": "a57fdfe9",
   "metadata": {},
   "outputs": [],
   "source": [
    "def min_max_scaler_transform(df):\n",
    "    scaler = joblib.load(\"../model_1/scaler\")\n",
    "    result = scaler.transform(df)\n",
    "    df.iloc[:,:] = result\n",
    "    return df"
   ]
  },
  {
   "cell_type": "code",
   "execution_count": 305,
   "id": "0b8c0d5f",
   "metadata": {},
   "outputs": [],
   "source": [
    "def train_model(df):\n",
    "    x_train, x_test, y_train, y_test = split_test_train(df)\n",
    "    clf = LogisticRegression()\n",
    "    clf.fit(x_train,y_train)\n",
    "    return clf.score(x_test,y_test)\n",
    "    "
   ]
  },
  {
   "cell_type": "code",
   "execution_count": 306,
   "id": "c2bf0a57",
   "metadata": {},
   "outputs": [],
   "source": [
    "def train_model_SVC(df):\n",
    "    x_train, x_test, y_train, y_test = split_test_train(df)\n",
    "    for i in range(1,20):\n",
    "        clf = SVC(C=i)\n",
    "        clf.fit(x_train,y_train)\n",
    "        print(clf.score(x_test,y_test))\n",
    "    "
   ]
  },
  {
   "cell_type": "code",
   "execution_count": 307,
   "id": "a0f4fe92",
   "metadata": {},
   "outputs": [],
   "source": [
    "def split_test_train(df):\n",
    "    X = df.drop(\"stroke\",axis=1)\n",
    "    Y = df[\"stroke\"]\n",
    "    x_train, x_test, y_train, y_test = train_test_split(X, Y, test_size=0.33, random_state=42)\n",
    "    return x_train, x_test, y_train, y_test\n",
    "    "
   ]
  },
  {
   "cell_type": "code",
   "execution_count": 308,
   "id": "6f28ec2b",
   "metadata": {},
   "outputs": [],
   "source": [
    "def pipeline(df):\n",
    "    df = missing_values(df)\n",
    "    \n",
    "    fit_one_hot(df)\n",
    "    df = transform_one_hot(df)\n",
    "    \n",
    "    fit_ordinal(df)\n",
    "    df = transform_ordinal(df)\n",
    "    \n",
    "    min_max_scaler_fit(df)\n",
    "    df = min_max_scaler_transform(df)\n",
    "    score = train_model(df)\n",
    "    train_model_SVC(df)\n",
    "    return score\n",
    "    \n",
    "    \n",
    "    "
   ]
  },
  {
   "cell_type": "code",
   "execution_count": 309,
   "id": "534484a3",
   "metadata": {},
   "outputs": [
    {
     "name": "stderr",
     "output_type": "stream",
     "text": [
      "/tmp/ipykernel_80266/1543342180.py:4: FutureWarning: In a future version, `df.iloc[:, i] = newvals` will attempt to set the values inplace instead of always setting a new array. To retain the old behavior, use either `df[df.columns[i]] = newvals` or, if columns are non-unique, `df.isetitem(i, newvals)`\n",
      "  df.iloc[:,:] = result\n"
     ]
    },
    {
     "name": "stdout",
     "output_type": "stream",
     "text": [
      "0.9266666666666666\n",
      "0.9266666666666666\n",
      "0.9266666666666666\n",
      "0.9266666666666666\n",
      "0.9266666666666666\n",
      "0.9274074074074075\n",
      "0.9266666666666666\n",
      "0.9266666666666666\n",
      "0.9266666666666666\n",
      "0.9259259259259259\n",
      "0.9259259259259259\n",
      "0.9266666666666666\n",
      "0.9266666666666666\n",
      "0.9266666666666666\n",
      "0.9266666666666666\n",
      "0.9266666666666666\n",
      "0.9266666666666666\n",
      "0.9266666666666666\n",
      "0.9274074074074075\n"
     ]
    },
    {
     "data": {
      "text/plain": [
       "0.9274074074074075"
      ]
     },
     "execution_count": 309,
     "metadata": {},
     "output_type": "execute_result"
    }
   ],
   "source": [
    "pipeline(df)"
   ]
  },
  {
   "cell_type": "code",
   "execution_count": 310,
   "id": "ac9e8626",
   "metadata": {},
   "outputs": [],
   "source": [
    "df.iloc[:,0] = \"x\""
   ]
  },
  {
   "cell_type": "code",
   "execution_count": 311,
   "id": "ba1f59af",
   "metadata": {},
   "outputs": [
    {
     "data": {
      "text/html": [
       "<div>\n",
       "<style scoped>\n",
       "    .dataframe tbody tr th:only-of-type {\n",
       "        vertical-align: middle;\n",
       "    }\n",
       "\n",
       "    .dataframe tbody tr th {\n",
       "        vertical-align: top;\n",
       "    }\n",
       "\n",
       "    .dataframe thead th {\n",
       "        text-align: right;\n",
       "    }\n",
       "</style>\n",
       "<table border=\"1\" class=\"dataframe\">\n",
       "  <thead>\n",
       "    <tr style=\"text-align: right;\">\n",
       "      <th></th>\n",
       "      <th>gender</th>\n",
       "      <th>age</th>\n",
       "      <th>hypertension</th>\n",
       "      <th>heart_disease</th>\n",
       "      <th>ever_married</th>\n",
       "      <th>work_type</th>\n",
       "      <th>Residence_type</th>\n",
       "      <th>avg_glucose_level</th>\n",
       "      <th>bmi</th>\n",
       "      <th>smoking_status</th>\n",
       "      <th>stroke</th>\n",
       "    </tr>\n",
       "    <tr>\n",
       "      <th>id</th>\n",
       "      <th></th>\n",
       "      <th></th>\n",
       "      <th></th>\n",
       "      <th></th>\n",
       "      <th></th>\n",
       "      <th></th>\n",
       "      <th></th>\n",
       "      <th></th>\n",
       "      <th></th>\n",
       "      <th></th>\n",
       "      <th></th>\n",
       "    </tr>\n",
       "  </thead>\n",
       "  <tbody>\n",
       "    <tr>\n",
       "      <th>9046</th>\n",
       "      <td>x</td>\n",
       "      <td>67.0</td>\n",
       "      <td>0</td>\n",
       "      <td>1</td>\n",
       "      <td>Yes</td>\n",
       "      <td>Private</td>\n",
       "      <td>Urban</td>\n",
       "      <td>228.69</td>\n",
       "      <td>36.6</td>\n",
       "      <td>formerly smoked</td>\n",
       "      <td>1</td>\n",
       "    </tr>\n",
       "    <tr>\n",
       "      <th>51676</th>\n",
       "      <td>x</td>\n",
       "      <td>61.0</td>\n",
       "      <td>0</td>\n",
       "      <td>0</td>\n",
       "      <td>Yes</td>\n",
       "      <td>Self-employed</td>\n",
       "      <td>Rural</td>\n",
       "      <td>202.21</td>\n",
       "      <td>NaN</td>\n",
       "      <td>never smoked</td>\n",
       "      <td>1</td>\n",
       "    </tr>\n",
       "    <tr>\n",
       "      <th>31112</th>\n",
       "      <td>x</td>\n",
       "      <td>80.0</td>\n",
       "      <td>0</td>\n",
       "      <td>1</td>\n",
       "      <td>Yes</td>\n",
       "      <td>Private</td>\n",
       "      <td>Rural</td>\n",
       "      <td>105.92</td>\n",
       "      <td>32.5</td>\n",
       "      <td>never smoked</td>\n",
       "      <td>1</td>\n",
       "    </tr>\n",
       "    <tr>\n",
       "      <th>60182</th>\n",
       "      <td>x</td>\n",
       "      <td>49.0</td>\n",
       "      <td>0</td>\n",
       "      <td>0</td>\n",
       "      <td>Yes</td>\n",
       "      <td>Private</td>\n",
       "      <td>Urban</td>\n",
       "      <td>171.23</td>\n",
       "      <td>34.4</td>\n",
       "      <td>smokes</td>\n",
       "      <td>1</td>\n",
       "    </tr>\n",
       "    <tr>\n",
       "      <th>1665</th>\n",
       "      <td>x</td>\n",
       "      <td>79.0</td>\n",
       "      <td>1</td>\n",
       "      <td>0</td>\n",
       "      <td>Yes</td>\n",
       "      <td>Self-employed</td>\n",
       "      <td>Rural</td>\n",
       "      <td>174.12</td>\n",
       "      <td>24.0</td>\n",
       "      <td>never smoked</td>\n",
       "      <td>1</td>\n",
       "    </tr>\n",
       "    <tr>\n",
       "      <th>...</th>\n",
       "      <td>...</td>\n",
       "      <td>...</td>\n",
       "      <td>...</td>\n",
       "      <td>...</td>\n",
       "      <td>...</td>\n",
       "      <td>...</td>\n",
       "      <td>...</td>\n",
       "      <td>...</td>\n",
       "      <td>...</td>\n",
       "      <td>...</td>\n",
       "      <td>...</td>\n",
       "    </tr>\n",
       "    <tr>\n",
       "      <th>45485</th>\n",
       "      <td>x</td>\n",
       "      <td>45.0</td>\n",
       "      <td>0</td>\n",
       "      <td>0</td>\n",
       "      <td>Yes</td>\n",
       "      <td>Self-employed</td>\n",
       "      <td>Urban</td>\n",
       "      <td>92.76</td>\n",
       "      <td>22.3</td>\n",
       "      <td>Unknown</td>\n",
       "      <td>0</td>\n",
       "    </tr>\n",
       "    <tr>\n",
       "      <th>32023</th>\n",
       "      <td>x</td>\n",
       "      <td>4.0</td>\n",
       "      <td>0</td>\n",
       "      <td>0</td>\n",
       "      <td>No</td>\n",
       "      <td>children</td>\n",
       "      <td>Urban</td>\n",
       "      <td>79.16</td>\n",
       "      <td>20.2</td>\n",
       "      <td>Unknown</td>\n",
       "      <td>0</td>\n",
       "    </tr>\n",
       "    <tr>\n",
       "      <th>33064</th>\n",
       "      <td>x</td>\n",
       "      <td>52.0</td>\n",
       "      <td>0</td>\n",
       "      <td>1</td>\n",
       "      <td>Yes</td>\n",
       "      <td>Private</td>\n",
       "      <td>Urban</td>\n",
       "      <td>87.00</td>\n",
       "      <td>30.9</td>\n",
       "      <td>never smoked</td>\n",
       "      <td>0</td>\n",
       "    </tr>\n",
       "    <tr>\n",
       "      <th>60896</th>\n",
       "      <td>x</td>\n",
       "      <td>68.0</td>\n",
       "      <td>0</td>\n",
       "      <td>1</td>\n",
       "      <td>Yes</td>\n",
       "      <td>Private</td>\n",
       "      <td>Rural</td>\n",
       "      <td>145.25</td>\n",
       "      <td>31.5</td>\n",
       "      <td>never smoked</td>\n",
       "      <td>0</td>\n",
       "    </tr>\n",
       "    <tr>\n",
       "      <th>2109</th>\n",
       "      <td>x</td>\n",
       "      <td>8.0</td>\n",
       "      <td>0</td>\n",
       "      <td>0</td>\n",
       "      <td>No</td>\n",
       "      <td>children</td>\n",
       "      <td>Urban</td>\n",
       "      <td>125.14</td>\n",
       "      <td>29.7</td>\n",
       "      <td>Unknown</td>\n",
       "      <td>0</td>\n",
       "    </tr>\n",
       "  </tbody>\n",
       "</table>\n",
       "<p>4088 rows × 11 columns</p>\n",
       "</div>"
      ],
      "text/plain": [
       "      gender   age  hypertension  heart_disease ever_married      work_type  \\\n",
       "id                                                                            \n",
       "9046       x  67.0             0              1          Yes        Private   \n",
       "51676      x  61.0             0              0          Yes  Self-employed   \n",
       "31112      x  80.0             0              1          Yes        Private   \n",
       "60182      x  49.0             0              0          Yes        Private   \n",
       "1665       x  79.0             1              0          Yes  Self-employed   \n",
       "...      ...   ...           ...            ...          ...            ...   \n",
       "45485      x  45.0             0              0          Yes  Self-employed   \n",
       "32023      x   4.0             0              0           No       children   \n",
       "33064      x  52.0             0              1          Yes        Private   \n",
       "60896      x  68.0             0              1          Yes        Private   \n",
       "2109       x   8.0             0              0           No       children   \n",
       "\n",
       "      Residence_type  avg_glucose_level   bmi   smoking_status  stroke  \n",
       "id                                                                      \n",
       "9046           Urban             228.69  36.6  formerly smoked       1  \n",
       "51676          Rural             202.21   NaN     never smoked       1  \n",
       "31112          Rural             105.92  32.5     never smoked       1  \n",
       "60182          Urban             171.23  34.4           smokes       1  \n",
       "1665           Rural             174.12  24.0     never smoked       1  \n",
       "...              ...                ...   ...              ...     ...  \n",
       "45485          Urban              92.76  22.3          Unknown       0  \n",
       "32023          Urban              79.16  20.2          Unknown       0  \n",
       "33064          Urban              87.00  30.9     never smoked       0  \n",
       "60896          Rural             145.25  31.5     never smoked       0  \n",
       "2109           Urban             125.14  29.7          Unknown       0  \n",
       "\n",
       "[4088 rows x 11 columns]"
      ]
     },
     "execution_count": 311,
     "metadata": {},
     "output_type": "execute_result"
    }
   ],
   "source": [
    "df"
   ]
  },
  {
   "cell_type": "code",
   "execution_count": null,
   "id": "7c2f6a0a",
   "metadata": {},
   "outputs": [],
   "source": []
  }
 ],
 "metadata": {
  "kernelspec": {
   "display_name": "Python 3 (ipykernel)",
   "language": "python",
   "name": "python3"
  },
  "language_info": {
   "codemirror_mode": {
    "name": "ipython",
    "version": 3
   },
   "file_extension": ".py",
   "mimetype": "text/x-python",
   "name": "python",
   "nbconvert_exporter": "python",
   "pygments_lexer": "ipython3",
   "version": "3.8.15"
  }
 },
 "nbformat": 4,
 "nbformat_minor": 5
}
