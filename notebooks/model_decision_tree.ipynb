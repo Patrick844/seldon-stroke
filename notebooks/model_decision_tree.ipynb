{
 "cells": [
  {
   "cell_type": "code",
   "execution_count": 1,
   "id": "9ffdd84f",
   "metadata": {},
   "outputs": [],
   "source": [
    "import pandas as pd\n",
    "import numpy as np\n",
    "import joblib\n",
    "from sklearn.preprocessing import OneHotEncoder\n",
    "from sklearn.preprocessing import OrdinalEncoder\n",
    "from sklearn.preprocessing import StandardScaler\n",
    "from sklearn.model_selection import train_test_split\n",
    "from sklearn.tree import DecisionTreeClassifier\n",
    "from sklearn.linear_model import LogisticRegression\n",
    "from sklearn.svm import SVC"
   ]
  },
  {
   "cell_type": "code",
   "execution_count": 2,
   "id": "9c3fd01e",
   "metadata": {},
   "outputs": [],
   "source": [
    "df = pd.read_csv(\"../data/train.csv\")"
   ]
  },
  {
   "cell_type": "code",
   "execution_count": 3,
   "id": "373df903",
   "metadata": {},
   "outputs": [],
   "source": [
    "df = df.drop([\"Unnamed: 0\"],axis=1)\n",
    "df = df.set_index(\"id\")\n",
    "label = df[\"stroke\"]\n",
    "df = df.drop([\"stroke\"],axis=1)"
   ]
  },
  {
   "cell_type": "code",
   "execution_count": 4,
   "id": "894d95f7",
   "metadata": {},
   "outputs": [
    {
     "data": {
      "text/html": [
       "<div>\n",
       "<style scoped>\n",
       "    .dataframe tbody tr th:only-of-type {\n",
       "        vertical-align: middle;\n",
       "    }\n",
       "\n",
       "    .dataframe tbody tr th {\n",
       "        vertical-align: top;\n",
       "    }\n",
       "\n",
       "    .dataframe thead th {\n",
       "        text-align: right;\n",
       "    }\n",
       "</style>\n",
       "<table border=\"1\" class=\"dataframe\">\n",
       "  <thead>\n",
       "    <tr style=\"text-align: right;\">\n",
       "      <th></th>\n",
       "      <th>gender</th>\n",
       "      <th>age</th>\n",
       "      <th>hypertension</th>\n",
       "      <th>heart_disease</th>\n",
       "      <th>ever_married</th>\n",
       "      <th>work_type</th>\n",
       "      <th>Residence_type</th>\n",
       "      <th>avg_glucose_level</th>\n",
       "      <th>bmi</th>\n",
       "      <th>smoking_status</th>\n",
       "    </tr>\n",
       "    <tr>\n",
       "      <th>id</th>\n",
       "      <th></th>\n",
       "      <th></th>\n",
       "      <th></th>\n",
       "      <th></th>\n",
       "      <th></th>\n",
       "      <th></th>\n",
       "      <th></th>\n",
       "      <th></th>\n",
       "      <th></th>\n",
       "      <th></th>\n",
       "    </tr>\n",
       "  </thead>\n",
       "  <tbody>\n",
       "    <tr>\n",
       "      <th>9637</th>\n",
       "      <td>Male</td>\n",
       "      <td>26.0</td>\n",
       "      <td>0</td>\n",
       "      <td>0</td>\n",
       "      <td>Yes</td>\n",
       "      <td>Private</td>\n",
       "      <td>Rural</td>\n",
       "      <td>120.31</td>\n",
       "      <td>22.3</td>\n",
       "      <td>smokes</td>\n",
       "    </tr>\n",
       "    <tr>\n",
       "      <th>32257</th>\n",
       "      <td>Female</td>\n",
       "      <td>47.0</td>\n",
       "      <td>0</td>\n",
       "      <td>0</td>\n",
       "      <td>Yes</td>\n",
       "      <td>Private</td>\n",
       "      <td>Urban</td>\n",
       "      <td>210.95</td>\n",
       "      <td>50.1</td>\n",
       "      <td>Unknown</td>\n",
       "    </tr>\n",
       "    <tr>\n",
       "      <th>28526</th>\n",
       "      <td>Male</td>\n",
       "      <td>69.0</td>\n",
       "      <td>0</td>\n",
       "      <td>0</td>\n",
       "      <td>Yes</td>\n",
       "      <td>Self-employed</td>\n",
       "      <td>Rural</td>\n",
       "      <td>203.04</td>\n",
       "      <td>33.6</td>\n",
       "      <td>never smoked</td>\n",
       "    </tr>\n",
       "    <tr>\n",
       "      <th>56716</th>\n",
       "      <td>Female</td>\n",
       "      <td>26.0</td>\n",
       "      <td>0</td>\n",
       "      <td>0</td>\n",
       "      <td>No</td>\n",
       "      <td>Private</td>\n",
       "      <td>Urban</td>\n",
       "      <td>82.59</td>\n",
       "      <td>29.4</td>\n",
       "      <td>never smoked</td>\n",
       "    </tr>\n",
       "    <tr>\n",
       "      <th>72214</th>\n",
       "      <td>Male</td>\n",
       "      <td>61.0</td>\n",
       "      <td>0</td>\n",
       "      <td>0</td>\n",
       "      <td>Yes</td>\n",
       "      <td>Self-employed</td>\n",
       "      <td>Urban</td>\n",
       "      <td>69.15</td>\n",
       "      <td>27.7</td>\n",
       "      <td>formerly smoked</td>\n",
       "    </tr>\n",
       "  </tbody>\n",
       "</table>\n",
       "</div>"
      ],
      "text/plain": [
       "       gender   age  hypertension  heart_disease ever_married      work_type  \\\n",
       "id                                                                             \n",
       "9637     Male  26.0             0              0          Yes        Private   \n",
       "32257  Female  47.0             0              0          Yes        Private   \n",
       "28526    Male  69.0             0              0          Yes  Self-employed   \n",
       "56716  Female  26.0             0              0           No        Private   \n",
       "72214    Male  61.0             0              0          Yes  Self-employed   \n",
       "\n",
       "      Residence_type  avg_glucose_level   bmi   smoking_status  \n",
       "id                                                              \n",
       "9637           Rural             120.31  22.3           smokes  \n",
       "32257          Urban             210.95  50.1          Unknown  \n",
       "28526          Rural             203.04  33.6     never smoked  \n",
       "56716          Urban              82.59  29.4     never smoked  \n",
       "72214          Urban              69.15  27.7  formerly smoked  "
      ]
     },
     "execution_count": 4,
     "metadata": {},
     "output_type": "execute_result"
    }
   ],
   "source": [
    "df.head()"
   ]
  },
  {
   "cell_type": "code",
   "execution_count": 5,
   "id": "3adb24a2",
   "metadata": {},
   "outputs": [
    {
     "data": {
      "text/plain": [
       "gender                0\n",
       "age                   0\n",
       "hypertension          0\n",
       "heart_disease         0\n",
       "ever_married          0\n",
       "work_type             0\n",
       "Residence_type        0\n",
       "avg_glucose_level     0\n",
       "bmi                  37\n",
       "smoking_status        0\n",
       "dtype: int64"
      ]
     },
     "execution_count": 5,
     "metadata": {},
     "output_type": "execute_result"
    }
   ],
   "source": [
    "df.isnull().sum()"
   ]
  },
  {
   "cell_type": "code",
   "execution_count": 6,
   "id": "91428f80",
   "metadata": {},
   "outputs": [
    {
     "data": {
      "text/plain": [
       "0    27.3\n",
       "1    31.0\n",
       "2    31.4\n",
       "Name: bmi, dtype: float64"
      ]
     },
     "execution_count": 6,
     "metadata": {},
     "output_type": "execute_result"
    }
   ],
   "source": [
    "df[\"bmi\"].mode()"
   ]
  },
  {
   "cell_type": "code",
   "execution_count": 7,
   "id": "89117887",
   "metadata": {},
   "outputs": [
    {
     "data": {
      "text/plain": [
       "['../model_clf/mode']"
      ]
     },
     "execution_count": 7,
     "metadata": {},
     "output_type": "execute_result"
    }
   ],
   "source": [
    "# Find mode value \n",
    "mode_1 = df[\"bmi\"].mode()[0]\n",
    "joblib.dump(mode_1,\"../model_clf/mode\")\n"
   ]
  },
  {
   "cell_type": "code",
   "execution_count": 8,
   "id": "9bed17a5",
   "metadata": {},
   "outputs": [
    {
     "data": {
      "text/plain": [
       "['../model_tree/mode']"
      ]
     },
     "execution_count": 8,
     "metadata": {},
     "output_type": "execute_result"
    }
   ],
   "source": [
    "mode_1 = df[\"bmi\"].mode()[1]\n",
    "joblib.dump(mode_1,\"../model_tree/mode\")"
   ]
  },
  {
   "cell_type": "code",
   "execution_count": 9,
   "id": "dde765a8",
   "metadata": {},
   "outputs": [],
   "source": [
    "def missing_values(df):\n",
    "    \n",
    "    mode = joblib.load(\"../model_tree/mode\")\n",
    "    df = df.fillna(mode)\n",
    "    return df\n",
    "    \n",
    "    "
   ]
  },
  {
   "cell_type": "code",
   "execution_count": 10,
   "id": "1a558c42",
   "metadata": {},
   "outputs": [],
   "source": [
    "def fit_one_hot(df):\n",
    "    encoder = OneHotEncoder(handle_unknown='ignore',sparse_output=False)\n",
    "    encoder.fit(df[[\"gender\",\"ever_married\",\"work_type\",\"Residence_type\"]])\n",
    "    joblib.dump(encoder,\"../model_tree/encoder\")"
   ]
  },
  {
   "cell_type": "code",
   "execution_count": 11,
   "id": "eae062e7",
   "metadata": {},
   "outputs": [],
   "source": [
    "def transform_one_hot(df):\n",
    "    encoder = joblib.load(\"../model_tree/encoder\")\n",
    "    result = encoder.transform(df[[\"gender\",\"ever_married\",\"work_type\",\"Residence_type\"]])\n",
    "    df = df.drop([\"gender\",\"work_type\",\"Residence_type\",\"ever_married\"],axis=1)\n",
    "    df[encoder.get_feature_names_out()] = result\n",
    "    return df"
   ]
  },
  {
   "cell_type": "code",
   "execution_count": 12,
   "id": "873854d3",
   "metadata": {},
   "outputs": [],
   "source": [
    "def fit_ordinal(df):\n",
    "    encoder = OrdinalEncoder(handle_unknown=\"use_encoded_value\",unknown_value=4)\n",
    "    encoder.fit(df[[\"smoking_status\"]])\n",
    "    joblib.dump(encoder,\"../model_clf/encoder_ordinal\")"
   ]
  },
  {
   "cell_type": "code",
   "execution_count": 13,
   "id": "bf6be840",
   "metadata": {},
   "outputs": [],
   "source": [
    "def transform_ordinal(df):\n",
    "    encoder = joblib.load(\"../model_clf/encoder_ordinal\")\n",
    "    result = encoder.transform(df[[\"smoking_status\"]])\n",
    "    df[encoder.get_feature_names_out()] = result\n",
    "    return df"
   ]
  },
  {
   "cell_type": "code",
   "execution_count": 14,
   "id": "118edda8",
   "metadata": {},
   "outputs": [],
   "source": [
    "def std_scaler_fit(df):\n",
    "    scaler = StandardScaler()\n",
    "    scaler.fit(df)\n",
    "    joblib.dump(scaler,\"../model_tree/scaler\")"
   ]
  },
  {
   "cell_type": "code",
   "execution_count": 15,
   "id": "a57fdfe9",
   "metadata": {},
   "outputs": [],
   "source": [
    "def std_scaler_transform(df):\n",
    "    scaler = joblib.load(\"../model_tree/scaler\")\n",
    "    result = scaler.transform(df)\n",
    "    df.iloc[:,:] = result\n",
    "    return df"
   ]
  },
  {
   "cell_type": "code",
   "execution_count": 76,
   "id": "0b8c0d5f",
   "metadata": {},
   "outputs": [],
   "source": [
    "def train_model_tree(df,label):\n",
    "    x_train, x_test, y_train, y_test = split_test_train(df,label)\n",
    "    clf = SVC(C=1)\n",
    "    clf.fit(x_train,y_train)\n",
    "    joblib.dump(clf,\"../model_tree/tree\")\n",
    "    return clf.score(x_test,y_test)\n",
    "    "
   ]
  },
  {
   "cell_type": "code",
   "execution_count": 77,
   "id": "a0f4fe92",
   "metadata": {},
   "outputs": [],
   "source": [
    "def split_test_train(df,label):\n",
    "    X = df\n",
    "    Y = label\n",
    "    x_train, x_test, y_train, y_test = train_test_split(X, Y, test_size=0.33, random_state=42)\n",
    "    return x_train, x_test, y_train, y_test\n",
    "    "
   ]
  },
  {
   "cell_type": "code",
   "execution_count": 78,
   "id": "6f28ec2b",
   "metadata": {},
   "outputs": [],
   "source": [
    "def pipeline(df,label):\n",
    "    df = missing_values(df)\n",
    "    \n",
    "    fit_one_hot(df)\n",
    "    df = transform_one_hot(df)\n",
    "    \n",
    "    fit_ordinal(df)\n",
    "    df = transform_ordinal(df)\n",
    "    \n",
    "    std_scaler_fit(df)\n",
    "    df = std_scaler_transform(df)\n",
    "    score = train_model_tree(df,label)\n",
    "    return score\n",
    "    \n",
    "    \n",
    "    "
   ]
  },
  {
   "cell_type": "code",
   "execution_count": 79,
   "id": "534484a3",
   "metadata": {},
   "outputs": [
    {
     "data": {
      "text/plain": [
       "0.7671232876712328"
      ]
     },
     "execution_count": 79,
     "metadata": {},
     "output_type": "execute_result"
    }
   ],
   "source": [
    "pipeline(df, label)"
   ]
  },
  {
   "cell_type": "code",
   "execution_count": null,
   "id": "7c2f6a0a",
   "metadata": {},
   "outputs": [],
   "source": []
  }
 ],
 "metadata": {
  "kernelspec": {
   "display_name": "Python 3 (ipykernel)",
   "language": "python",
   "name": "python3"
  },
  "language_info": {
   "codemirror_mode": {
    "name": "ipython",
    "version": 3
   },
   "file_extension": ".py",
   "mimetype": "text/x-python",
   "name": "python",
   "nbconvert_exporter": "python",
   "pygments_lexer": "ipython3",
   "version": "3.8.15"
  }
 },
 "nbformat": 4,
 "nbformat_minor": 5
}
