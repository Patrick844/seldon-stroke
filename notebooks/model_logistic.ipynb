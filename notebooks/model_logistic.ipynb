{
 "cells": [
  {
   "cell_type": "code",
   "execution_count": 395,
   "id": "06360173",
   "metadata": {},
   "outputs": [],
   "source": [
    "import pandas as pd\n",
    "import numpy as np\n",
    "import joblib\n",
    "from sklearn.preprocessing import OneHotEncoder\n",
    "from sklearn.preprocessing import OrdinalEncoder\n",
    "from sklearn.preprocessing import MinMaxScaler\n",
    "from sklearn.model_selection import train_test_split\n",
    "from sklearn.linear_model import LogisticRegression"
   ]
  },
  {
   "cell_type": "code",
   "execution_count": 396,
   "id": "b7b15774",
   "metadata": {},
   "outputs": [],
   "source": [
    "df = pd.read_csv(\"../data/train.csv\")"
   ]
  },
  {
   "cell_type": "code",
   "execution_count": 397,
   "id": "8526027f",
   "metadata": {},
   "outputs": [],
   "source": [
    "df = df.drop([\"Unnamed: 0\"],axis=1)\n",
    "df = df.set_index(\"id\")\n",
    "label = df[\"stroke\"]\n",
    "df = df.drop([\"stroke\"],axis=1)"
   ]
  },
  {
   "cell_type": "code",
   "execution_count": 398,
   "id": "6ac53542",
   "metadata": {},
   "outputs": [
    {
     "data": {
      "text/html": [
       "<div>\n",
       "<style scoped>\n",
       "    .dataframe tbody tr th:only-of-type {\n",
       "        vertical-align: middle;\n",
       "    }\n",
       "\n",
       "    .dataframe tbody tr th {\n",
       "        vertical-align: top;\n",
       "    }\n",
       "\n",
       "    .dataframe thead th {\n",
       "        text-align: right;\n",
       "    }\n",
       "</style>\n",
       "<table border=\"1\" class=\"dataframe\">\n",
       "  <thead>\n",
       "    <tr style=\"text-align: right;\">\n",
       "      <th></th>\n",
       "      <th>gender</th>\n",
       "      <th>age</th>\n",
       "      <th>hypertension</th>\n",
       "      <th>heart_disease</th>\n",
       "      <th>ever_married</th>\n",
       "      <th>work_type</th>\n",
       "      <th>Residence_type</th>\n",
       "      <th>avg_glucose_level</th>\n",
       "      <th>bmi</th>\n",
       "      <th>smoking_status</th>\n",
       "    </tr>\n",
       "    <tr>\n",
       "      <th>id</th>\n",
       "      <th></th>\n",
       "      <th></th>\n",
       "      <th></th>\n",
       "      <th></th>\n",
       "      <th></th>\n",
       "      <th></th>\n",
       "      <th></th>\n",
       "      <th></th>\n",
       "      <th></th>\n",
       "      <th></th>\n",
       "    </tr>\n",
       "  </thead>\n",
       "  <tbody>\n",
       "    <tr>\n",
       "      <th>9046</th>\n",
       "      <td>Male</td>\n",
       "      <td>67.0</td>\n",
       "      <td>0</td>\n",
       "      <td>1</td>\n",
       "      <td>Yes</td>\n",
       "      <td>Private</td>\n",
       "      <td>Urban</td>\n",
       "      <td>228.69</td>\n",
       "      <td>36.6</td>\n",
       "      <td>formerly smoked</td>\n",
       "    </tr>\n",
       "    <tr>\n",
       "      <th>51676</th>\n",
       "      <td>Female</td>\n",
       "      <td>61.0</td>\n",
       "      <td>0</td>\n",
       "      <td>0</td>\n",
       "      <td>Yes</td>\n",
       "      <td>Self-employed</td>\n",
       "      <td>Rural</td>\n",
       "      <td>202.21</td>\n",
       "      <td>NaN</td>\n",
       "      <td>never smoked</td>\n",
       "    </tr>\n",
       "    <tr>\n",
       "      <th>31112</th>\n",
       "      <td>Male</td>\n",
       "      <td>80.0</td>\n",
       "      <td>0</td>\n",
       "      <td>1</td>\n",
       "      <td>Yes</td>\n",
       "      <td>Private</td>\n",
       "      <td>Rural</td>\n",
       "      <td>105.92</td>\n",
       "      <td>32.5</td>\n",
       "      <td>never smoked</td>\n",
       "    </tr>\n",
       "    <tr>\n",
       "      <th>60182</th>\n",
       "      <td>Female</td>\n",
       "      <td>49.0</td>\n",
       "      <td>0</td>\n",
       "      <td>0</td>\n",
       "      <td>Yes</td>\n",
       "      <td>Private</td>\n",
       "      <td>Urban</td>\n",
       "      <td>171.23</td>\n",
       "      <td>34.4</td>\n",
       "      <td>smokes</td>\n",
       "    </tr>\n",
       "    <tr>\n",
       "      <th>1665</th>\n",
       "      <td>Female</td>\n",
       "      <td>79.0</td>\n",
       "      <td>1</td>\n",
       "      <td>0</td>\n",
       "      <td>Yes</td>\n",
       "      <td>Self-employed</td>\n",
       "      <td>Rural</td>\n",
       "      <td>174.12</td>\n",
       "      <td>24.0</td>\n",
       "      <td>never smoked</td>\n",
       "    </tr>\n",
       "  </tbody>\n",
       "</table>\n",
       "</div>"
      ],
      "text/plain": [
       "       gender   age  hypertension  heart_disease ever_married      work_type  \\\n",
       "id                                                                             \n",
       "9046     Male  67.0             0              1          Yes        Private   \n",
       "51676  Female  61.0             0              0          Yes  Self-employed   \n",
       "31112    Male  80.0             0              1          Yes        Private   \n",
       "60182  Female  49.0             0              0          Yes        Private   \n",
       "1665   Female  79.0             1              0          Yes  Self-employed   \n",
       "\n",
       "      Residence_type  avg_glucose_level   bmi   smoking_status  \n",
       "id                                                              \n",
       "9046           Urban             228.69  36.6  formerly smoked  \n",
       "51676          Rural             202.21   NaN     never smoked  \n",
       "31112          Rural             105.92  32.5     never smoked  \n",
       "60182          Urban             171.23  34.4           smokes  \n",
       "1665           Rural             174.12  24.0     never smoked  "
      ]
     },
     "execution_count": 398,
     "metadata": {},
     "output_type": "execute_result"
    }
   ],
   "source": [
    "df.head()"
   ]
  },
  {
   "cell_type": "code",
   "execution_count": 399,
   "id": "01d5193d",
   "metadata": {},
   "outputs": [
    {
     "data": {
      "text/plain": [
       "gender                 0\n",
       "age                    0\n",
       "hypertension           0\n",
       "heart_disease          0\n",
       "ever_married           0\n",
       "work_type              0\n",
       "Residence_type         0\n",
       "avg_glucose_level      0\n",
       "bmi                  177\n",
       "smoking_status         0\n",
       "dtype: int64"
      ]
     },
     "execution_count": 399,
     "metadata": {},
     "output_type": "execute_result"
    }
   ],
   "source": [
    "df.isnull().sum()"
   ]
  },
  {
   "cell_type": "code",
   "execution_count": 400,
   "id": "7a8da971",
   "metadata": {},
   "outputs": [
    {
     "data": {
      "text/plain": [
       "0    26.7\n",
       "1    27.7\n",
       "Name: bmi, dtype: float64"
      ]
     },
     "execution_count": 400,
     "metadata": {},
     "output_type": "execute_result"
    }
   ],
   "source": [
    "df[\"bmi\"].mode()"
   ]
  },
  {
   "cell_type": "code",
   "execution_count": 401,
   "id": "82a0c69d",
   "metadata": {},
   "outputs": [
    {
     "data": {
      "text/plain": [
       "['../model_clf/mode']"
      ]
     },
     "execution_count": 401,
     "metadata": {},
     "output_type": "execute_result"
    }
   ],
   "source": [
    "# Find mode value \n",
    "mode_1 = df[\"bmi\"].mode()[0]\n",
    "joblib.dump(mode_1,\"../model_clf/mode\")\n"
   ]
  },
  {
   "cell_type": "code",
   "execution_count": 402,
   "id": "d7be99ba",
   "metadata": {},
   "outputs": [
    {
     "data": {
      "text/plain": [
       "['../model_tree/mode']"
      ]
     },
     "execution_count": 402,
     "metadata": {},
     "output_type": "execute_result"
    }
   ],
   "source": [
    "mode_1 = df[\"bmi\"].mode()[1]\n",
    "joblib.dump(mode_1,\"../model_tree/mode\")"
   ]
  },
  {
   "cell_type": "code",
   "execution_count": 403,
   "id": "8b7b1ced",
   "metadata": {},
   "outputs": [],
   "source": [
    "def missing_values(df):\n",
    "    \n",
    "    mode = joblib.load(\"../model_clf/mode\")\n",
    "    df = df.fillna(mode)\n",
    "    return df\n",
    "    \n",
    "    "
   ]
  },
  {
   "cell_type": "code",
   "execution_count": 404,
   "id": "88a1a3c8",
   "metadata": {},
   "outputs": [],
   "source": [
    "def fit_one_hot(df):\n",
    "    encoder = OneHotEncoder(handle_unknown='ignore',sparse_output=False)\n",
    "    encoder.fit(df[[\"gender\",\"ever_married\",\"work_type\",\"Residence_type\"]])\n",
    "    joblib.dump(encoder,\"../model_clf/encoder\")"
   ]
  },
  {
   "cell_type": "code",
   "execution_count": 405,
   "id": "03b80da4",
   "metadata": {},
   "outputs": [],
   "source": [
    "def transform_one_hot(df):\n",
    "    encoder = joblib.load(\"../model_clf/encoder\")\n",
    "    result = encoder.transform(df[[\"gender\",\"ever_married\",\"work_type\",\"Residence_type\"]])\n",
    "    df = df.drop([\"gender\",\"work_type\",\"Residence_type\",\"ever_married\"],axis=1)\n",
    "    df[encoder.get_feature_names_out()] = result\n",
    "    return df"
   ]
  },
  {
   "cell_type": "code",
   "execution_count": 406,
   "id": "0a3e9189",
   "metadata": {},
   "outputs": [],
   "source": [
    "def fit_ordinal(df):\n",
    "    encoder = OrdinalEncoder(handle_unknown=\"use_encoded_value\",unknown_value=4)\n",
    "    encoder.fit(df[[\"smoking_status\"]])\n",
    "    joblib.dump(encoder,\"../model_clf/encoder_ordinal\")"
   ]
  },
  {
   "cell_type": "code",
   "execution_count": 407,
   "id": "267e6ef9",
   "metadata": {},
   "outputs": [],
   "source": [
    "def transform_ordinal(df):\n",
    "    encoder = joblib.load(\"../model_clf/encoder_ordinal\")\n",
    "    result = encoder.transform(df[[\"smoking_status\"]])\n",
    "    df[encoder.get_feature_names_out()] = result\n",
    "    return df"
   ]
  },
  {
   "cell_type": "code",
   "execution_count": 408,
   "id": "0528715f",
   "metadata": {},
   "outputs": [],
   "source": [
    "def min_max_scaler_fit(df):\n",
    "    scaler = MinMaxScaler()\n",
    "    scaler.fit(df)\n",
    "    joblib.dump(scaler,\"../model_clf/scaler\")"
   ]
  },
  {
   "cell_type": "code",
   "execution_count": 409,
   "id": "507caeac",
   "metadata": {},
   "outputs": [],
   "source": [
    "def min_max_scaler_transform(df):\n",
    "    scaler = joblib.load(\"../model_clf/scaler\")\n",
    "    result = scaler.transform(df)\n",
    "    df.iloc[:,:] = result\n",
    "    return df"
   ]
  },
  {
   "cell_type": "code",
   "execution_count": 410,
   "id": "e235ea18",
   "metadata": {},
   "outputs": [],
   "source": [
    "def train_model(df, label):\n",
    "    x_train, x_test, y_train, y_test = split_test_train(df,label)\n",
    "    clf = LogisticRegression()\n",
    "    clf.fit(x_train,y_train)\n",
    "    joblib.dump(clf,\"../model_clf/clf\")\n",
    "    return clf.score(x_test,y_test)\n",
    "    "
   ]
  },
  {
   "cell_type": "code",
   "execution_count": 411,
   "id": "70410210",
   "metadata": {},
   "outputs": [],
   "source": [
    "def split_test_train(df,label):\n",
    "    X = df\n",
    "    Y = label\n",
    "    x_train, x_test, y_train, y_test = train_test_split(X, Y, test_size=0.33, random_state=42)\n",
    "    return x_train, x_test, y_train, y_test\n",
    "    "
   ]
  },
  {
   "cell_type": "code",
   "execution_count": 412,
   "id": "6af8ddeb",
   "metadata": {},
   "outputs": [],
   "source": [
    "def pipeline(df,label):\n",
    "    df = missing_values(df)\n",
    "    \n",
    "    fit_one_hot(df)\n",
    "    df = transform_one_hot(df)\n",
    "    \n",
    "    fit_ordinal(df)\n",
    "    df = transform_ordinal(df)\n",
    "    \n",
    "    min_max_scaler_fit(df)\n",
    "    df = min_max_scaler_transform(df)\n",
    "    score = train_model(df, label)\n",
    "    return score\n",
    "    \n",
    "    \n",
    "    "
   ]
  },
  {
   "cell_type": "code",
   "execution_count": 413,
   "id": "43c7b0d6",
   "metadata": {},
   "outputs": [
    {
     "name": "stderr",
     "output_type": "stream",
     "text": [
      "/tmp/ipykernel_80266/1189991753.py:4: FutureWarning: In a future version, `df.iloc[:, i] = newvals` will attempt to set the values inplace instead of always setting a new array. To retain the old behavior, use either `df[df.columns[i]] = newvals` or, if columns are non-unique, `df.isetitem(i, newvals)`\n",
      "  df.iloc[:,:] = result\n"
     ]
    },
    {
     "data": {
      "text/plain": [
       "0.9274074074074075"
      ]
     },
     "execution_count": 413,
     "metadata": {},
     "output_type": "execute_result"
    }
   ],
   "source": [
    "pipeline(df, label)"
   ]
  }
 ],
 "metadata": {
  "kernelspec": {
   "display_name": "Python 3 (ipykernel)",
   "language": "python",
   "name": "python3"
  },
  "language_info": {
   "codemirror_mode": {
    "name": "ipython",
    "version": 3
   },
   "file_extension": ".py",
   "mimetype": "text/x-python",
   "name": "python",
   "nbconvert_exporter": "python",
   "pygments_lexer": "ipython3",
   "version": "3.8.15"
  }
 },
 "nbformat": 4,
 "nbformat_minor": 5
}
