{
 "cells": [
  {
   "cell_type": "code",
   "execution_count": 1,
   "id": "04b71f6b",
   "metadata": {},
   "outputs": [
    {
     "name": "stdout",
     "output_type": "stream",
     "text": [
      "{'status': {'code': -1, 'info': \"metrics() missing 2 required positional arguments: 'st' and 'et'\", 'reason': 'MICROSERVICE_INTERNAL_ERROR', 'status': 1}}\n",
      "\n",
      "#####################\n",
      "\n"
     ]
    },
    {
     "ename": "KeyError",
     "evalue": "'data'",
     "output_type": "error",
     "traceback": [
      "\u001b[0;31m---------------------------------------------------------------------------\u001b[0m",
      "\u001b[0;31mKeyError\u001b[0m                                  Traceback (most recent call last)",
      "Cell \u001b[0;32mIn[1], line 28\u001b[0m\n\u001b[1;32m     26\u001b[0m \u001b[38;5;28mprint\u001b[39m(\u001b[38;5;124m\"\u001b[39m\u001b[38;5;124m#####################\u001b[39m\u001b[38;5;124m\"\u001b[39m)\n\u001b[1;32m     27\u001b[0m \u001b[38;5;28mprint\u001b[39m(\u001b[38;5;124m'\u001b[39m\u001b[38;5;124m'\u001b[39m)\n\u001b[0;32m---> 28\u001b[0m \u001b[38;5;28;01mif\u001b[39;00m \u001b[43mprediction\u001b[49m\u001b[38;5;241;43m.\u001b[39;49m\u001b[43mresponse\u001b[49m\u001b[43m[\u001b[49m\u001b[38;5;124;43m\"\u001b[39;49m\u001b[38;5;124;43mdata\u001b[39;49m\u001b[38;5;124;43m\"\u001b[39;49m\u001b[43m]\u001b[49m[\u001b[38;5;124m\"\u001b[39m\u001b[38;5;124mndarray\u001b[39m\u001b[38;5;124m\"\u001b[39m][\u001b[38;5;241m0\u001b[39m] \u001b[38;5;241m==\u001b[39m \u001b[38;5;241m0\u001b[39m:\n\u001b[1;32m     29\u001b[0m     \u001b[38;5;28mprint\u001b[39m(\u001b[38;5;124m\"\u001b[39m\u001b[38;5;124mNo Stroke\u001b[39m\u001b[38;5;124m\"\u001b[39m)\n\u001b[1;32m     30\u001b[0m     \u001b[38;5;28mprint\u001b[39m(df\u001b[38;5;241m.\u001b[39miloc[i][\u001b[38;5;124m\"\u001b[39m\u001b[38;5;124mstroke\u001b[39m\u001b[38;5;124m\"\u001b[39m])\n",
      "\u001b[0;31mKeyError\u001b[0m: 'data'"
     ]
    }
   ],
   "source": [
    "import numpy as np\n",
    "from seldon_core.seldon_client import SeldonClient\n",
    "import pandas as pd\n",
    "import time\n",
    "\n",
    "df = pd.read_csv(\"../data/train.csv\")\n",
    "\n",
    "sc = SeldonClient(\n",
    "    gateway=\"istio\",\n",
    "    transport=\"rest\",\n",
    "    gateway_endpoint=\"localhost:8080\",  \n",
    "    namespace=\"default\",\n",
    ")\n",
    "\n",
    "\n",
    "for i in range(100):\n",
    "        client_prediction = sc.predict(\n",
    "            data=np.array([df.iloc[i][\"gender\"],df.iloc[i][\"age\"],df.iloc[i][\"hypertension\"],df.iloc[i][\"heart_disease\"],df.iloc[i][\"ever_married\"],df.iloc[i][\"work_type\"],df.iloc[i][\"Residence_type\"],df.iloc[i][\"avg_glucose_level\"],df.iloc[i][\"bmi\"],df.iloc[i][\"smoking_status\"]]),\n",
    "            deployment_name=\"stroke\",\n",
    "            names=['gender', 'age', 'hypertention', 'heart_disease', 'ever_married', 'work_type', 'Residence_type',\"avg_glucose_level\",\"bmi\",\"smoking_status\"],\n",
    "            payload_type=\"ndarray\",\n",
    "        )\n",
    "        prediction = (client_prediction)\n",
    "        print(client_prediction.response)\n",
    "        print(\"\")\n",
    "        print(\"#####################\")\n",
    "        print('')\n",
    "        if prediction.response[\"data\"][\"ndarray\"][0] == 0:\n",
    "            print(\"No Stroke\")\n",
    "            print(df.iloc[i][\"stroke\"])\n",
    "            print('')\n",
    "\n",
    "        else:\n",
    "            print(\"Stroke\")\n",
    "            print(\"\")\n",
    "            print(\" \")"
   ]
  },
  {
   "cell_type": "code",
   "execution_count": null,
   "id": "1558bdb1",
   "metadata": {},
   "outputs": [],
   "source": []
  }
 ],
 "metadata": {
  "kernelspec": {
   "display_name": "Python 3 (ipykernel)",
   "language": "python",
   "name": "python3"
  },
  "language_info": {
   "codemirror_mode": {
    "name": "ipython",
    "version": 3
   },
   "file_extension": ".py",
   "mimetype": "text/x-python",
   "name": "python",
   "nbconvert_exporter": "python",
   "pygments_lexer": "ipython3",
   "version": "3.8.15"
  }
 },
 "nbformat": 4,
 "nbformat_minor": 5
}
